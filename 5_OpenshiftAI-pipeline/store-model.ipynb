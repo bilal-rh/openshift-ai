{
 "cells": [
  {
   "cell_type": "code",
   "execution_count": 1,
   "id": "f9dfde95-dcb8-435e-835d-0664e4f8a801",
   "metadata": {
    "tags": []
   },
   "outputs": [],
   "source": [
    "# send to S3\n",
    "import boto3\n",
    "\n",
    "# Replace with your AWS access key ID and secret access key\n",
    "AWS_ACCESS_KEY_ID = 'xxxxx'\n",
    "AWS_SECRET_ACCESS_KEY = 'xxxx'\n",
    "\n",
    "# Optional: Specify the AWS region where your S3 bucket resides\n",
    "AWS_REGION = 'us-east'  # Example region\n",
    "\n",
    "# Create an S3 client object\n",
    "s3_client = boto3.client('s3',\n",
    "                         aws_access_key_id=AWS_ACCESS_KEY_ID,\n",
    "                         aws_secret_access_key=AWS_SECRET_ACCESS_KEY,\n",
    "                         endpoint_url='https://minio-apixxxx.com',\n",
    "                         region_name=AWS_REGION)\n",
    "\n",
    "\n",
    "\n",
    "# s3_client = boto3.client('s3')\n",
    "\n",
    "s3_client.upload_file(\n",
    "    Filename='models/battle.onnx',\n",
    "    Bucket='models',\n",
    "    Key='battle/v3/battle.onnx'\n",
    ")"
   ]
  },
  {
   "cell_type": "code",
   "execution_count": null,
   "id": "4f24df65-65b0-4ab8-9103-a57cbdd3121d",
   "metadata": {},
   "outputs": [],
   "source": []
  }
 ],
 "metadata": {
  "kernelspec": {
   "display_name": "Python 3.9",
   "language": "python",
   "name": "python3"
  },
  "language_info": {
   "codemirror_mode": {
    "name": "ipython",
    "version": 3
   },
   "file_extension": ".py",
   "mimetype": "text/x-python",
   "name": "python",
   "nbconvert_exporter": "python",
   "pygments_lexer": "ipython3",
   "version": "3.9.16"
  }
 },
 "nbformat": 4,
 "nbformat_minor": 5
}
