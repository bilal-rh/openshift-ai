{
 "cells": [
  {
   "cell_type": "code",
   "execution_count": null,
   "id": "8b725c5e-8027-42f7-b909-692d7e64589c",
   "metadata": {},
   "outputs": [],
   "source": [
    "! pip install skl2onnx onnx onnxruntime"
   ]
  },
  {
   "cell_type": "code",
   "execution_count": null,
   "id": "16a2a5ec-1dac-4cb7-9f5c-37d3a8ee444f",
   "metadata": {},
   "outputs": [],
   "source": [
    "import pickle\n",
    "import onnx\n",
    "from skl2onnx import convert_sklearn\n",
    "from skl2onnx.common.data_types import FloatTensorType\n",
    "import numpy as np\n",
    "\n",
    "# Load the saved pickle model\n",
    "model_path = \"models/battle.pickle\"\n",
    "with open(model_path, \"rb\") as f:\n",
    "    loaded_model = pickle.load(f)\n",
    "\n",
    "print(f\"Loaded model type: {type(loaded_model)}\")\n",
    "print(f\"Model: {loaded_model}\")\n",
    "\n",
    "# Define the input shape for ONNX conversion\n",
    "# Based on the features used in training: Character, Universe, Strength, Speed, Intelligence, SpecialAbilities, Weaknesses\n",
    "# That's 7 features total\n",
    "n_features = 7\n",
    "initial_types = [('float_input', FloatTensorType([None, n_features]))]\n",
    "\n",
    "# Convert the scikit-learn model to ONNX format\n",
    "onnx_model = convert_sklearn(loaded_model, initial_types=initial_types)\n",
    "\n",
    "# Save the ONNX model locally\n",
    "onnx_model_path = \"models/battle.onnx\"\n",
    "with open(onnx_model_path, \"wb\") as f:\n",
    "    f.write(onnx_model.SerializeToString())\n",
    "\n",
    "print(f\"Model successfully converted and saved as: {onnx_model_path}\")\n",
    "\n",
    "# Verify the ONNX model\n",
    "onnx_model_check = onnx.load(onnx_model_path)\n",
    "onnx.checker.check_model(onnx_model_check)\n",
    "print(\"ONNX model verification passed!\")"
   ]
  }
 ],
 "metadata": {
  "kernelspec": {
   "display_name": "Python 3.11",
   "language": "python",
   "name": "python3"
  },
  "language_info": {
   "codemirror_mode": {
    "name": "ipython",
    "version": 3
   },
   "file_extension": ".py",
   "mimetype": "text/x-python",
   "name": "python",
   "nbconvert_exporter": "python",
   "pygments_lexer": "ipython3",
   "version": "3.11.9"
  }
 },
 "nbformat": 4,
 "nbformat_minor": 5
}
