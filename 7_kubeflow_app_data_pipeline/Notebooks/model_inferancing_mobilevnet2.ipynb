{
 "cells": [
  {
   "cell_type": "code",
   "execution_count": 24,
   "id": "dc28aca2-ec9b-44d3-90ce-9c0ceaacc8af",
   "metadata": {
    "tags": []
   },
   "outputs": [
    {
     "name": "stdout",
     "output_type": "stream",
     "text": [
      "The predicted class is: Egyptian_cat\n"
     ]
    }
   ],
   "source": [
    "import requests\n",
    "import numpy as np\n",
    "from PIL import Image\n",
    "import json\n",
    "import base64\n",
    "# Function to preprocess the image\n",
    "def preprocess_image(image_path):\n",
    "    # Load the image\n",
    "    image = Image.open(image_path)\n",
    "    # Resize the image to 224x224 (the input size expected by MobileNetV2)\n",
    "    image = image.resize((224, 224))\n",
    "    # Convert the image to a numpy array\n",
    "    image_array = np.array(image)\n",
    "    # Normalize the image array to [0, 1]\n",
    "    image_array = image_array / 255.0\n",
    "    # Add a batch dimension\n",
    "    image_array = np.expand_dims(image_array, axis=0)\n",
    "    return image_array\n",
    "\n",
    "# Function to make an inference request to OpenVINO\n",
    "def predict(image_array, inference_url):\n",
    "    # Convert the image array to a list of floats\n",
    "    image_list = image_array.astype(np.float32).tolist()\n",
    "    \n",
    "    # Prepare the payload\n",
    "    payload = {\n",
    "        \"inputs\": [\n",
    "            {\n",
    "                \"name\": \"input\",\n",
    "                \"shape\": [1, 224, 224, 3],\n",
    "                \"datatype\": \"FP32\",\n",
    "                \"data\": image_list\n",
    "            }\n",
    "        ]\n",
    "    }\n",
    "    \n",
    "    # Prepare the headers\n",
    "    headers = {'Content-Type': 'application/json'}\n",
    "    \n",
    "    # Make a POST request to the inference URL\n",
    "    response = requests.post(inference_url, headers=headers, json=payload)\n",
    "    \n",
    "    # Check if the request was successful\n",
    "    if response.status_code == 200:\n",
    "        # Parse the response JSON\n",
    "        predictions = response.json()\n",
    "        return predictions\n",
    "    else:\n",
    "        print(f\"Request failed with status code {response.status_code}\")\n",
    "        print(response.text)\n",
    "        return None\n",
    "# Path to the input image\n",
    "image_path = 'cat.jpg'\n",
    "# URL of the OpenVINO inference endpoint\n",
    "inference_url = 'https://test-nageshrathodiot-dev.apps.sandbox-m2.ll9k.p1.openshiftapps.com/v2/models/test/infer'\n",
    "\n",
    "\n",
    "# Preprocess the image\n",
    "image_array = preprocess_image(image_path)\n",
    "\n",
    "# Make an inference request\n",
    "output_prediction = predict(image_array, inference_url)\n",
    "\n",
    "# Load the imagenet class index file\n",
    "with open('imagenet_class_index.json') as f:\n",
    "    class_idx = json.load(f)\n",
    "\n",
    "\n",
    "# Extract the prediction scores from the output\n",
    "predictions = output_prediction['outputs'][0]['data']\n",
    "\n",
    "# Convert the list to a numpy array for easier manipulation\n",
    "predictions_np = np.array(predictions)\n",
    "\n",
    "# Find the index of the maximum prediction score\n",
    "max_index = np.argmax(predictions_np)\n",
    "\n",
    "# Get the human-readable label from the class index\n",
    "label = class_idx[str(max_index)][1]\n",
    "\n",
    "# Print the prediction\n",
    "print(f'The predicted class is: {label}')"
   ]
  }
 ],
 "metadata": {
  "kernelspec": {
   "display_name": "Python 3.9",
   "language": "python",
   "name": "python3"
  },
  "language_info": {
   "codemirror_mode": {
    "name": "ipython",
    "version": 3
   },
   "file_extension": ".py",
   "mimetype": "text/x-python",
   "name": "python",
   "nbconvert_exporter": "python",
   "pygments_lexer": "ipython3",
   "version": "3.9.18"
  }
 },
 "nbformat": 4,
 "nbformat_minor": 5
}
