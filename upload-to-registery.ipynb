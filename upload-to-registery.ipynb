{
 "cells": [
  {
   "cell_type": "code",
   "execution_count": null,
   "metadata": {
    "vscode": {
     "languageId": "plaintext"
    }
   },
   "outputs": [],
   "source": [
    "from model_registry import ModelRegistry\n",
    "from model_registry.utils import S3Params\n",
    "from model_registry.exceptions import StoreError\n",
    "import os"
   ]
  },
  {
   "cell_type": "code",
   "execution_count": null,
   "metadata": {
    "vscode": {
     "languageId": "plaintext"
    }
   },
   "outputs": [],
   "source": [
    "# Set up the model registry connection\n",
    "model_registry_url = f\"https://registry-rest.cluster_domain.com\"\n",
    "author_name = username\n",
    "\n",
    "registry = ModelRegistry(server_address=model_registry_url, port=443, author=author_name, is_secure=False)\n",
    "\n",
    "\n",
    "# Model details we want to register\n",
    "registered_model_name = \"battle\"\n",
    "version = \"0.0.1\"\n",
    "model_path = \"models/battle/\""
   ]
  },
  {
   "cell_type": "code",
   "execution_count": null,
   "metadata": {
    "vscode": {
     "languageId": "plaintext"
    }
   },
   "outputs": [],
   "source": [
    "s3_upload_params = S3Params(\n",
    "    bucket_name=os.environ.get('AWS_S3_BUCKET'),\n",
    "    s3_prefix=\"models/battle/\",\n",
    ")\n",
    "\n",
    "try:\n",
    "    registered_model = registry.upload_artifact_and_register_model(\n",
    "        name=registered_model_name,\n",
    "        model_files_path=model_path,\n",
    "        model_format_name=\"onnx\",\n",
    "        author=username,\n",
    "        model_format_version=\"1\",\n",
    "        version=version,\n",
    "        description=\"battle model in onnx format\",\n",
    "        metadata={\n",
    "            \"accuracy\": 0.3,\n",
    "            \"license\": \"apache-2.0\"\n",
    "        },\n",
    "        upload_params=s3_upload_params\n",
    "    )\n",
    "\n",
    "   # print(f\"'{registered_model_name}' version '{version}' has been registered here: https://rhods-dashboard-redhat-ods-applications.{cluster_domain}/modelRegistry/{username}-registry/registeredModels/1/versions/{registry.get_model_version(registered_model_name, version).id}/details\")\n",
    "\n",
    "except StoreError:\n",
    "    rmver = registry.get_model_version(registered_model_name, version)\n",
    "    print(f\"Model and version already exists:\\n{rmver}\")"
   ]
  }
 ],
 "metadata": {
  "language_info": {
   "name": "python"
  }
 },
 "nbformat": 4,
 "nbformat_minor": 2
}
